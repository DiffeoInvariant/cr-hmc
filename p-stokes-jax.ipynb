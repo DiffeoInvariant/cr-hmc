{
 "cells": [
  {
   "cell_type": "code",
   "execution_count": 1,
   "metadata": {},
   "outputs": [
    {
     "name": "stderr",
     "output_type": "stream",
     "text": [
      "WARNING:absl:No GPU/TPU found, falling back to CPU. (Set TF_CPP_MIN_LOG_LEVEL=0 and rerun for more info.)\n"
     ]
    },
    {
     "name": "stdout",
     "output_type": "stream",
     "text": [
      "WARNING:tensorflow:From /home/diffeoinvariant/anaconda3/envs/fenics2019/lib/python3.7/site-packages/tensorflow/python/compat/v2_compat.py:96: disable_resource_variables (from tensorflow.python.ops.variable_scope) is deprecated and will be removed in a future version.\n",
      "Instructions for updating:\n",
      "non-resource variables are not supported in the long term\n"
     ]
    },
    {
     "name": "stderr",
     "output_type": "stream",
     "text": [
      "WARNING:tensorflow:From /home/diffeoinvariant/anaconda3/envs/fenics2019/lib/python3.7/site-packages/tensorflow/python/compat/v2_compat.py:96: disable_resource_variables (from tensorflow.python.ops.variable_scope) is deprecated and will be removed in a future version.\n",
      "Instructions for updating:\n",
      "non-resource variables are not supported in the long term\n"
     ]
    }
   ],
   "source": [
    "import tensorflow\n",
    "import jax\n",
    "jax.config.enable_omnistaging()\n",
    "from jax import numpy as jnp\n",
    "import numpy as np\n",
    "import matplotlib.pyplot as plt\n",
    "from matplotlib import cm\n",
    "import ufl\n",
    "from crikit import *\n",
    "#import pyadjoint\n",
    "#from crikit.learn import TheanoLogPdf\n",
    "from theano_op import TheanoLogPdf\n",
    "from crikit.observer import SubdomainObserver\n",
    "from crikit.loss import SlicedWassersteinDistance\n",
    "import pymc3 as pm\n",
    "import theano.tensor as tt\n",
    "import sys\n",
    "#to prevent stack overflows in JAX functions, which can have very deep recursion\n",
    "sys.setrecursionlimit(100000)"
   ]
  },
  {
   "cell_type": "markdown",
   "metadata": {},
   "source": [
    "# Explain physics and discretization here"
   ]
  },
  {
   "cell_type": "code",
   "execution_count": 2,
   "metadata": {},
   "outputs": [],
   "source": [
    "class Experiment:\n",
    "    def __init__(self, mesh, alpha=0, g=9.8, rho=1):\n",
    "        self.setDomainParameters(mesh,False)\n",
    "        self.setF(alpha=alpha, g=g, rho=rho)\n",
    "\n",
    "    def setF(self, alpha=None, g=None, rho=None):\n",
    "        self.alpha = self.alpha if alpha is None else alpha\n",
    "        self.g = self.g if g is None else g\n",
    "        self.rho = self.rho if rho is None else rho\n",
    "        V = VectorFunctionSpace(mesh, \"CG\", 2)\n",
    "        f = (-self.rho * self.g * sin(self.alpha), -self.rho * self.g * cos(self.alpha), 0)\n",
    "        if self.dim == 2:\n",
    "            f = f[:2]\n",
    "        self.f = Constant(f, name='f')\n",
    "\n",
    "    def setDomainParameters(self, mesh, rte=False):\n",
    "        if rte:\n",
    "            V = FiniteElement(\"RT\",mesh.ufl_cell(),2)\n",
    "            Q = FiniteElement(\"DG\",mesh.ufl_cell(),1)\n",
    "            self.dim = mesh.geometric_dimension()\n",
    "            self.W = FunctionSpace(mesh,V * Q)\n",
    "        else:\n",
    "            V_e = VectorElement(\"CG\", mesh.ufl_cell(), 2)\n",
    "            Q_e = FiniteElement(\"CG\", mesh.ufl_cell(), 1)\n",
    "            VQ_e = V_e*Q_e\n",
    "            self.W = FunctionSpace(mesh, VQ_e)\n",
    "            self.dim = V_e.value_shape()[0]\n",
    "\n",
    "        self.rte = rte\n",
    "\n",
    "    def setBCs(self, dir_bcs, rob_bcs=None):\n",
    "        \"\"\"\n",
    "        Sets Dirichlet and Robin boundary conditions. Each Robin condition is a\n",
    "        tuple (a, b, j, ds) corresponding to the equation :math:`a u + b mu sym(grad(u)) n = j`\n",
    "        on the boundary ds. Note that the Robin conditions are only applied\n",
    "        to the velocity, not the pressure.\n",
    "\n",
    "        Args:\n",
    "            dir_bcs (DirichletBC or list[DirichletBC]): The Dirichlet boundary conditions.\n",
    "            rob_bcs (tuple or list[tuple]): See description above.\n",
    "        \"\"\"\n",
    "        self.bcs = Enlist(dir_bcs)\n",
    "        self.h_bcs = homogenize_bcs(self.bcs)\n",
    "        self.rob_bcs = Enlist(rob_bcs) if rob_bcs is not None else None\n",
    "\n",
    "    def bc(self, u):\n",
    "        \"\"\"Applies Dirichlet boundary conditions to function or to matrix\"\"\"\n",
    "        if hasattr(u, 'vector'):\n",
    "            for bc in self.bcs:\n",
    "                bc.apply(u.vector())\n",
    "        else:\n",
    "            for bc in self.bcs:\n",
    "                bc.apply(u)\n",
    "        return u\n",
    "\n",
    "    def h_bc(self, u):\n",
    "        \"\"\"Applies homogenous Dirichlet boundary conditions to function or to matrix\"\"\"\n",
    "        for bc in self.h_bcs:\n",
    "            bc.apply(u.vector())\n",
    "        return u\n",
    "\n",
    "    def get_robin_terms(self, u, v):\n",
    "        \"\"\"Adds the Robin terms to the given Form\"\"\"\n",
    "        if self.rob_bcs is None:\n",
    "            return 0\n",
    "        F = 0\n",
    "        for a, b, j, ds in self.rob_bcs:\n",
    "            F += inner(v, (a * u - j))/b * ds\n",
    "        return F\n",
    "\n",
    "    def run(self, cr, observer=None, initial_w=None, ufl=False, cback=None, solver_parameters=None, disp=True):\n",
    "        if solver_parameters is None:\n",
    "            solver_parameters = {}\n",
    "\n",
    "        # Define u.\n",
    "        if initial_w is None:\n",
    "            w = Function(self.W, name='w')\n",
    "        else:\n",
    "            w = initial_w\n",
    "\n",
    "        if ufl:\n",
    "            w = self._ufl_solve(cr, w, cback=cback, disp=disp)\n",
    "        elif self.rte:\n",
    "            w = self._rte_solve(cr, w, cback, disp)\n",
    "        else:\n",
    "            w = self._solve(cr, w, cback=cback, disp=disp)\n",
    "\n",
    "        if observer is None:\n",
    "            return w\n",
    "        return observer(w)\n",
    "\n",
    "    def _ufl_solve(self, cr, w, cback=None, disp=True):\n",
    "        # Don't print out Newton iterations.\n",
    "        if not disp:\n",
    "            orig_log_level = get_log_level()\n",
    "            set_log_level(LogLevel.CRITICAL)\n",
    "\n",
    "        # Set up the weak form.\n",
    "        u, p = split(w)\n",
    "        sigma = cr(sym(grad(u)))\n",
    "        # mu = cr(sym(grad(u)))\n",
    "        # sigma = mu * sym(grad(u))\n",
    "        F, u = self.get_form(w, sigma)\n",
    "        params = {'nonlinear_solver' : 'snes', 'snes_solver' : {'line_search' : 'bt'}}\n",
    "        solve(F == 0, w, self.bcs)#, solver_parameters=params)\n",
    "\n",
    "        if not disp:\n",
    "            set_log_level(orig_log_level)\n",
    "\n",
    "        if cback is not None:\n",
    "            cback(w)\n",
    "        return w\n",
    "\n",
    "    def _solve(self, cr, w, cback=None, disp=True):\n",
    "        # Set up the weak form.\n",
    "        F, u, sigma = self.get_form_cr(cr, w)     \n",
    "            \n",
    "        with push_tape():\n",
    "            residual = Function(self.W)\n",
    "            assemble_with_cr(F, cr, sym(grad(u)), sigma, tensor=residual, quad_params=quad_params)\n",
    "\n",
    "            wcontrol = Control(w)\n",
    "            residual_rf = ReducedFunction(residual, wcontrol)\n",
    "            \n",
    "        reduced_equation = ReducedEquation(residual_rf, self.bc, self.h_bc)\n",
    "\n",
    "        solver = SNESSolver(reduced_equation, {'jmat_type': 'assembled'})\n",
    "        #get_working_tape().visualise_dot('tape.dot')\n",
    "        w = solver.solve(wcontrol, disp=disp, cback=cback)\n",
    "        return w\n",
    "\n",
    "\n",
    "    def _rte_solve(self, cr, w, cback=None, disp=True):\n",
    "\n",
    "        F, u, sigma = self.get_rte_form_cr(cr,w)\n",
    "\n",
    "        with push_tape():\n",
    "            res = Function(self.W)\n",
    "            assemble_with_cr(F,cr,u,sigma,tensor=res,quad_params=quad_params)\n",
    "            wcontrol = Control(w)\n",
    "            res_rf = ReducedFunction(res,wcontrol)\n",
    "\n",
    "        red_eq = ReducedEquation(res_rf,self.bc,self.h_bc)\n",
    "\n",
    "        solver = SNESSolver(red_eq,{'jmat_type' : 'assembled'})\n",
    "        w = solver.solve(wcontrol,disp=disp,cback=cback)\n",
    "        return w\n",
    "\n",
    "    def get_rte_form_cr(self, cr, w):\n",
    "        target_shape = tuple(i for i in cr.target.shape() if i != -1)\n",
    "        # mu = create_ufl_standins((target_shape,))[0]\n",
    "        sigma = create_ufl_standins((target_shape,))[0]\n",
    "        u, p = split(w)\n",
    "        # sigma = mu * sym(grad(u))\n",
    "        F, u = self.get_rte_form(w, sigma)\n",
    "        return F, u, sigma\n",
    "\n",
    "    def get_form_cr(self, cr, w):\n",
    "        target_shape = tuple(i for i in cr.target.shape() if i != -1)\n",
    "        # mu = create_ufl_standins((target_shape,))[0]\n",
    "        sigma = create_ufl_standins((target_shape,))[0]\n",
    "        u, p = split(w)\n",
    "        # sigma = mu * sym(grad(u))\n",
    "        F, u = self.get_form(w, sigma)\n",
    "        return F, u, sigma\n",
    "\n",
    "\n",
    "    def get_rte_form(self, w, sigma):\n",
    "        u, p = split(w)\n",
    "        w_test = TestFunction(self.W)\n",
    "        v, q = split(w_test)\n",
    "        a = (inner(dot(inv(sigma),u), v) -\n",
    "             inner(p,div(v)) - inner(div(u),q)) * dx\n",
    "        L = inner(self.f,v) * dx\n",
    "        F = a - L + self.get_robin_terms(u,v)\n",
    "        return F, u\n",
    "\n",
    "    def get_form(self, w, sigma):\n",
    "        u, p = split(w)\n",
    "        w_test = TestFunction(self.W)\n",
    "        v, q = split(w_test)\n",
    "\n",
    "        lhs = (inner(sigma, grad(v)) * dx\n",
    "               - inner(div(v), p) * dx\n",
    "               - inner(div(u), q) * dx\n",
    "              )\n",
    "        rhs = inner(self.f, v) * dx\n",
    "        F = lhs - rhs\n",
    "        F = F + self.get_robin_terms(u, v)\n",
    "        return F, u"
   ]
  },
  {
   "cell_type": "code",
   "execution_count": 3,
   "metadata": {},
   "outputs": [],
   "source": [
    "#set up the experiment --- these parameters define the experiment, so play around with them and see what happens!\n",
    "dims = 2 #must be 2 or 3\n",
    "grid_sizes = [5] * dims # N x N mesh in 2d, N x N x N mesh in 3d\n",
    "angle_rads = -np.pi / 6\n",
    "rho = 1\n",
    "g = 9.8\n",
    "p_true = 1.2 # true value of p. Must be > 1. Values in [1,2] require larger regularization than values in (2,\\infty)\n",
    "epsilon = 0.1 # regularization -- if you get NaNs during the optimization process, this is probably too small\n",
    "fe_order = 2 # finite element order; must be >= 2\n",
    "robin_bcs = True #use Robin boundary conditions?\n",
    "robin_a = 1\n",
    "robin_b = 0.5\n",
    "seed = 10\n",
    "cmap = 'magma' #plot color map\n",
    "display_snes_iterations = True #display iterations in the nonlinear solver? useful for debugging and progress tracking"
   ]
  },
  {
   "cell_type": "code",
   "execution_count": 4,
   "metadata": {},
   "outputs": [],
   "source": [
    "\n",
    "\n",
    "if dims == 2:\n",
    "    mesh = UnitSquareMesh(*grid_sizes)\n",
    "    inflow = Expression((\"x[1]*(1-x[1])/2\", \"0\"), degree=2)\n",
    "    def side_boundary(x, on_boundary):\n",
    "        return on_boundary and (near(x[1], 0, 1e-5) or near(x[1], 1, 1e-5))\n",
    "else:\n",
    "    mesh = UnitCubeMesh(*grid_sizes)\n",
    "    inflow = Expression((\"x[1]*(1-x[1])/2 * x[2]*(1-x[2])/2\", \"0\", \"0\"), degree=2)\n",
    "    def side_boundary(x, on_boundary):\n",
    "        return on_boundary and (near(x[1], 0, 1e-5) or near(x[1], 1, 1e-5)\n",
    "                                or near(x[2], 0, 1e-5) or near(x[2], 1, 1e-5))\n",
    "    \n",
    "def inflow_boundary(x, on_boundary):\n",
    "    return on_boundary and near(x[0], 0, 1e-5)\n",
    "\n",
    "def outflow_boundary(x, on_boundary):\n",
    "    return on_boundary and near(x[0], 1, 1e-5)\n",
    "\n",
    "class OutflowBoundary(SubDomain):\n",
    "    def inside(self, x, on_boundary):\n",
    "        return outflow_boundary(x, on_boundary)\n",
    "    \n",
    "#boundary_markers = MeshFunction(\"size_t\", mesh, mesh.topology().dim() - 1, 0)\n",
    "#OutflowBoundary().mark(boundary_markers, 1)\n",
    "#de = ds(1, domain=mesh, subdomain_data=boundary_markers)\n",
    "observer = SubdomainObserver(mesh, OutflowBoundary())#SurfaceObserver(de)\n",
    "\n",
    "noslip = ufl.zero(dims)\n",
    "eps2 = epsilon ** 2\n",
    "ex = Experiment(mesh, alpha=angle_rads, g=g)#angle_radians=angle_rads, g=g, fe_order=fe_order)\n",
    "ex2 = Experiment(mesh, alpha=angle_rads/2, g=g)\n",
    "\n",
    "if robin_bcs:\n",
    "    class InflowBoundary(SubDomain):\n",
    "        def inside(self, x, on_boundary):\n",
    "            return inflow_boundary(x, on_boundary)\n",
    "        \n",
    "    class SideBoundary(SubDomain):\n",
    "        def inside(self, x, on_boundary):\n",
    "            return side_boundary(x, on_boundary)\n",
    "        \n",
    "    markers = MeshFunction(\"size_t\", mesh, mesh.topology().dim() - 1, 0)\n",
    "    InflowBoundary().mark(markers, 1)\n",
    "    SideBoundary().mark(markers, 2)\n",
    "    dleft = ds(1, domain=mesh, subdomain_data=markers)\n",
    "    dside = ds(2, domain=mesh, subdomain_data=markers)\n",
    "    robin_a = Constant(robin_a)\n",
    "    robin_b = Constant(robin_b)\n",
    "    ex.setBCs([],\n",
    "              [(robin_a, robin_b, inflow, dleft),\n",
    "               (robin_a, robin_b, noslip, dside),\n",
    "              ]\n",
    "             )\n",
    "    ex2.setBCs([],\n",
    "              [(robin_a, robin_b, inflow, dleft),\n",
    "               (robin_a, robin_b, noslip, dside),\n",
    "              ]\n",
    "             )\n",
    "else:\n",
    "    noslip = Expression((\"0\",)*dims, degree=0) #NOTE: do I actually need to do this?\n",
    "    ex.setBCs([DirichletBC(ex.W.sub(0), noslip, side_boundary),\n",
    "               DirichletBC(ex.W.sub(0), inflow, inflow_boundary)])\n",
    "    ex2.setBCs([DirichletBC(ex.W.sub(0), noslip, side_boundary),\n",
    "               DirichletBC(ex.W.sub(0), inflow, inflow_boundary)])\n",
    "    \n",
    "quad_params = {'quadrature_degree' : fe_order + 1}\n",
    "domain = mesh.ufl_domain()\n",
    "#sets parameters for the crikit.covering module\n",
    "set_default_covering_params(domain=domain, quad_params=quad_params)\n",
    "\n",
    "cmap = cm.get_cmap(cmap)"
   ]
  },
  {
   "cell_type": "markdown",
   "metadata": {},
   "source": [
    "The true CR that we'll be trying to learn is \n",
    "$$\n",
    "\\sigma = (\\mathrm{tr}(F\\cdot F )+ \\epsilon ^ 2)^{( p - 2) / 2} F\n",
    "$$\n",
    "where $F = \\frac{\\nabla\\mathbf{u} + \\nabla\\mathbf{u}^T}{2}$ and $\\epsilon$ is a regularization constant. This is known as a _p-laplacian_ CR."
   ]
  },
  {
   "cell_type": "code",
   "execution_count": 5,
   "metadata": {},
   "outputs": [
    {
     "data": {
      "text/plain": [
       "['bernoulli',\n",
       " 'cauchy',\n",
       " 'dirichlet',\n",
       " 'double_sided_maxwell',\n",
       " 'exponential',\n",
       " 'gamma',\n",
       " 'gumbel',\n",
       " 'laplace',\n",
       " 'logistic',\n",
       " 'maxwell',\n",
       " 'multivariate_normal',\n",
       " 'normal',\n",
       " 'pareto',\n",
       " 'poisson',\n",
       " 'rademacher',\n",
       " 't',\n",
       " 'truncated_normal',\n",
       " 'uniform',\n",
       " 'weibull']"
      ]
     },
     "execution_count": 5,
     "metadata": {},
     "output_type": "execute_result"
    }
   ],
   "source": [
    "#let's see what noise distributions are availablef\n",
    "AdditiveRandomFunction.available_distributions()"
   ]
  },
  {
   "cell_type": "code",
   "execution_count": 6,
   "metadata": {},
   "outputs": [
    {
     "data": {
      "text/plain": [
       "Text(0.5, 1.0, 'Noisy solution with true CR, with p = 1.2')"
      ]
     },
     "execution_count": 6,
     "metadata": {},
     "output_type": "execute_result"
    },
    {
     "data": {
      "image/png": "[encoded data removed]",
      "text/plain": [
       "<Figure size 432x288 with 2 Axes>"
      ]
     },
     "metadata": {
      "needs_background": "light"
     },
     "output_type": "display_data"
    },
    {
     "data": {
      "text/plain": [
       "<Figure size 432x288 with 0 Axes>"
      ]
     },
     "metadata": {},
     "output_type": "display_data"
    },
    {
     "data": {
      "image/png": "[encoded data removed]",
      "text/plain": [
       "<Figure size 432x288 with 2 Axes>"
      ]
     },
     "metadata": {
      "needs_background": "light"
     },
     "output_type": "display_data"
    }
   ],
   "source": [
    "p = Constant(p_true, name='p')\n",
    "def true_cr(epsilon):\n",
    "    scalar_invt = tr(dot(epsilon, epsilon))\n",
    "    mu = (scalar_invt + eps2) ** ((p - 2) / 2)\n",
    "    return mu * epsilon\n",
    "    \n",
    "\n",
    "#generate the observations!\n",
    "with record_tape_block(name='Ground Truth Experiment'):\n",
    "    w = ex.run(true_cr, ufl=True, observer=None, disp=display_snes_iterations)\n",
    "    obs_w = observer(w)\n",
    "    \n",
    "#with record_tape_block(name='Ground Truth Experiment (Half Angle)'):\n",
    "#    w2 = ex2.run(true_cr, ufl=True, observer=None, disp=display_snes_iterations)\n",
    "#    obs_w2 = observer(w2)\n",
    "    \n",
    "plt.figure()\n",
    "u, p = w.split()\n",
    "plt.colorbar(plot(u, cmap=cmap))\n",
    "plt.title(f\"Solution with true CR, with p = {p_true}\")\n",
    "plt.figure()\n",
    "#u, p = w2.split()\n",
    "#plt.colorbar(plot(u, cmap=cmap))\n",
    "#plt.title(f\"Solution with true CR at double angle, with p = {p_true}\")\n",
    "#u, p = w.split()\n",
    "noise_maker = AdditiveRandomFunction(ex.W, std=0.0, seed=seed)\n",
    "noisy_w = noise_maker(w)\n",
    "#let's say we have a few IID obs per experiment\n",
    "num_obs_per = 1\n",
    "noisy_ws = [observer(noise_maker(w)) for _ in range(num_obs_per)]\n",
    "#noisy_w2s = [noise_maker(w2) for _ in range(num_obs_per)]\n",
    "noisy_u, noisy_p = noisy_w.split()\n",
    "plt.figure()\n",
    "plt.colorbar(plot(noisy_u, cmap=cmap))\n",
    "plt.title(f\"Noisy solution with true CR, with p = {p_true}\")"
   ]
  },
  {
   "cell_type": "markdown",
   "metadata": {},
   "source": [
    "Now we can define our JAX-based CRs, which we'll use to learn MAP estimates for the parameters $\\theta$, a two-component vector. The first component is a scale component called $a$, and the second component is $p$. \n",
    "\n",
    "Defining a JAX CR is very easy, and you have two options as to how to do it. Regardless of which approach you take, you will have to define your inputs as a list or tuple of `crikit.invariants.TensorType` instances, as well as a `TensorType` representing the output of your CR function. The first approach is to write a function that represents your CR in the form\n",
    "$$\n",
    "\\sigma = \\sum\\limits_i \\phi_i(I_S(A, B, \\ldots ); \\theta) F_i(A, B, \\ldots )\n",
    "$$\n",
    "where $I_S(A, B, \\ldots )$ are scalar values that are invariant under symmetry transformations of the inputs $A, B, \\ldots$ (i.e. under the orthogonal or special orthogonal group over all the inputs) called <em>scalar invariants</em>, $F_i$ are so-called <em>form invariants</em>, tensors with the same `TensorType` representation as $\\sigma$ that are themselves equivariant (not <em>invariant</em>, despite their name!) under the same symmetry transformations, and $\\phi_i$ are scalar-valued functions. $\\theta$ are the parameters passed to the `CR` constructor. The `crikit.invariants` module computes the $I_S$ and $F_i$ functions for you; all you need to provide is a function to compute the $\\phi_i$, and provide them in a one-dimensional JAX array. If your material is not isotropic like the one modeled here is, you should pass the structural tensor representing that anisotropy as one of your inputs, and add a corresponding `TensorType` describing that structural tensor as one of your input types. If that tensor is the Levi-Civita tensor, use a `LeviCivitaType` to represent it, but don't pass in a concrete (i.e. array or `Function`) representation to the `CR` when evaluating it or using `assemble_with_cr()`; the `CR` will account for its presence when determining the invariants.\n",
    "\n",
    "\n",
    "The other approach to building a `CR` is to represent it with a <em>strain-energy density</em>,\n",
    "$$\n",
    "W = \\phi(I_S(A, B, \\ldots); \\theta)\n",
    "$$\n",
    "where $\\phi$ is a scalar-valued function of the scalar invariants and parameters. The `CR` will then use JAX to differentiate the strain-energy density with respect to the first input, which should be the (symmetric) strain tensor to get a stress tensor $\\sigma$. If you do this, be sure to pass `strain_energy=True` to the `CR` constructor, because it is also possible to construct a scalar-valued `CR` which will not differentiate the function you pass it.\n",
    "\n",
    "The value $\\mathrm{tr}(F\\cdot F)$ is the second scalar invariant, which makes writing the JAX versions of the true CR easy:"
   ]
  },
  {
   "cell_type": "code",
   "execution_count": 7,
   "metadata": {},
   "outputs": [],
   "source": [
    "theta = array([0.95, 1.15]) #initial guess as to the scale parameter (0.9 by default) and p (1.5 by default)"
   ]
  },
  {
   "cell_type": "code",
   "execution_count": 8,
   "metadata": {},
   "outputs": [
    {
     "name": "stderr",
     "output_type": "stream",
     "text": [
      "WARNING:CRIKit:Passed 1 params to CR.__init__(), but no corresponding param_argnums. Assuming the params are the last parameters of the function.\n",
      "WARNING:CRIKit:Passed 1 params to CR.__init__(), but no corresponding param_argnums. Assuming the params are the last parameters of the function.\n"
     ]
    }
   ],
   "source": [
    "def jax_form_invariant_cr_func(scalar_invts, theta):\n",
    "    #a JAX-based CR that uses form invariants\n",
    "    a, p = theta[0], theta[1]\n",
    "    scale = a * (scalar_invts[1] + eps2) ** ((p - 2) / 2)\n",
    "    return jnp.array([0, scale])\n",
    "\n",
    "def jax_energy_cr_func(scalar_invts, theta):\n",
    "    #a JAX-based CR that calculates the strain energy and gets the stress by differentiating\n",
    "    #it w.r.t. the input tensor\n",
    "    a, p = theta[0], theta[1]\n",
    "    return (a / p) * (scalar_invts[1] + eps2) ** (p / 2)\n",
    "\n",
    "input_types = (TensorType.make_symmetric(2, dims),)\n",
    "output_type = TensorType.make_symmetric(2,dims)#scalar()#\n",
    "form_invt_cr = CR(output_type, input_types,\n",
    "                 jax_form_invariant_cr_func, params=(theta,))\n",
    "\n",
    "strain_energy_cr = CR(TensorType.make_scalar(), input_types, \n",
    "                      jax_energy_cr_func, params=(theta,),\n",
    "                      strain_energy=True)"
   ]
  },
  {
   "cell_type": "code",
   "execution_count": 9,
   "metadata": {},
   "outputs": [
    {
     "name": "stdout",
     "output_type": "stream",
     "text": [
      "Initial loss is  0.03580712314141715\n"
     ]
    }
   ],
   "source": [
    "#compute the loss for the form-invariant CR\n",
    "#observer = lambda x: x.copy(deepcopy=True)\n",
    "with record_tape_block(name='JAX Form Invariant Experiment'):\n",
    "    pred_w = ex.run(form_invt_cr, observer=observer, ufl=False, disp=False)\n",
    "\n",
    "#with record_tape_block(name='JAX Form Invariant Experiment'):\n",
    "#    pred_w2 = ex2.run(form_invt_cr, observer=observer, ufl=False, disp=False)\n",
    "    \n",
    "#def loss(pred, pred2):\n",
    "#    return integral_loss(pred, observer(noisy_ws[0]))# + integral_loss(pred2, observer(noisy_w2s[0]))\n",
    "loss = integral_loss#SlicedWassersteinDistance(noisy_ws[0], pred_w, 10, jax.random.PRNGKey(seed))\n",
    "err = loss(noisy_ws[0], pred_w)#observer(noisy_ws[0]), pred_w) #pred_w2)\n",
    "print(\"Initial loss is \", err)\n",
    "#define the functional to minimize\n",
    "Jhat = ReducedFunctional(err, Control(theta))"
   ]
  },
  {
   "cell_type": "code",
   "execution_count": 10,
   "metadata": {},
   "outputs": [
    {
     "name": "stdout",
     "output_type": "stream",
     "text": [
      "Initial loss with energy CR is  0.03580712314141732\n"
     ]
    }
   ],
   "source": [
    "#now do the same for the energy CR\n",
    "with record_tape_block(name='JAX Energy Invariant Experiment'):\n",
    "    pred_w_e = ex.run(strain_energy_cr, observer=observer, ufl=False, disp=False)\n",
    "    \n",
    "err_energy = integral_loss(obs_w, pred_w_e)\n",
    "print(\"Initial loss with energy CR is \", err_energy)\n",
    "Jhat_e = ReducedFunctional(err_energy, Control(theta))"
   ]
  },
  {
   "cell_type": "markdown",
   "metadata": {},
   "source": [
    "# Computing MAP estimates\n",
    "\n",
    "Now that we have defined our CRs and computed our loss functionals (`Jhat` and `Jhat_e`), we can minimize the loss to find the Maximum A Posteriori (i.e. maximum likelihood) estimate of the parameters $\\theta = [a,p]$. We do this with `pyadjoint.minimize()`, which itself calls `scipy.optimize.minimize()`. Further, note that we have used both methods for defining a callback: we pass a callback function to `minimize()` in the form of `minimize_cb` in order to view the state and loss at each iteration of the optimizer, and setting `Jhat.eval_cb_pre` to view the state each time we re-evaluate the `ReducedFunctional`."
   ]
  },
  {
   "cell_type": "code",
   "execution_count": 11,
   "metadata": {},
   "outputs": [],
   "source": [
    "logfile_name = 'form_invariant_opt.csv'#change this if desired\n",
    "num_entries = -1 #changes to 0 when the file is opened\n",
    "logfile = None\n",
    "total_num_call = 0"
   ]
  },
  {
   "cell_type": "code",
   "execution_count": 12,
   "metadata": {},
   "outputs": [
    {
     "name": "stdout",
     "output_type": "stream",
     "text": [
      "Computing derivative\n",
      "Running Taylor test\n",
      "Computed residuals: [6.62202323434795e-08, 1.656049900547262e-08, 4.140805184168036e-09, 1.0352865783472813e-09]\n",
      "Computed convergence rates: [1.9995259274800823, 1.9997629114034543, 1.9998811523018478]\n",
      "MAP estimate is  [1.00434388 1.1993575 ]\n"
     ]
    }
   ],
   "source": [
    "\n",
    "\n",
    "def log_reset():\n",
    "    global total_num_call, num_entries, logfile\n",
    "    logfile.close()\n",
    "    total_num_call = 0\n",
    "    num_entries = -1\n",
    "\n",
    "def log_init(name):\n",
    "    global num_entries, logfile\n",
    "    if num_entries > -1:\n",
    "        raise ValueError(\"Must set num_entries to -1 before initializing logging!\")\n",
    "    \n",
    "    logfile = open(name, 'w+')\n",
    "    num_entries = 0\n",
    "    param_name_str = ','.join(['param_' + str(i) for i in range(theta.size)])\n",
    "    grad_name_str = ','.join(['grad_param_' + str(i) for i in range(theta.size)])\n",
    "    logfile.write('step,loss,' + param_name_str + ',' + grad_name_str + '\\n')\n",
    "    \n",
    "    \n",
    "def log_entry(Jhat, params):\n",
    "    global num_entries, logfile\n",
    "    if num_entries < 0:\n",
    "        raise Exception(\"Must initialize logging before logging an entry!\")\n",
    "        \n",
    "    loss = Jhat.functional.block_variable.checkpoint\n",
    "    param_str = ','.join(map(str, np.array(params.flatten())))\n",
    "    grad = Jhat.controls[0].get_derivative()\n",
    "    grad_str = ','.join(map(str, np.array(grad)))\n",
    "    print(f\"writing entry {str(num_entries) + ',' + str(loss) + ',' + param_str + ',' + grad_str}\")\n",
    "    logfile.write(str(num_entries) + ',' + str(loss) + ',' + param_str + ',' + grad_str + '\\n')\n",
    "    num_entries += 1\n",
    "\n",
    "def minimize_cb(x_k, state=None):\n",
    "    log_entry(Jhat, x_k)\n",
    "    \n",
    "    \n",
    "def cb_pre(x):\n",
    "    global total_num_call\n",
    "    total_num_call += 1\n",
    "    print(\"calls: \", total_num_call, \" theta: \", x)\n",
    "    \n",
    "h = 1e-2 * array(np.random.randn(*theta.shape))\n",
    "#get_working_tape().visualise('logs', True, True)\n",
    "assert taylor_test(Jhat, theta, h) >= 1.9\n",
    "#Jhat.eval_cb_pre = cb_pre\n",
    "#we know that the PDE is ill-posed for p < 1, so give it a little padding to be safe\n",
    "bounds = [array([0.9, 1.05]), array([1.05, 1.5])]\n",
    "#log_init('wasserstein_' + logfile_name)\n",
    "map_estimate = minimize(Jhat, method='L-BFGS-B', callback=None, bounds=bounds, options={'disp' : True})\n",
    "#print(\"Total number of function evaluations: \", total_num_call)\n",
    "#log_reset()\n",
    "print(\"MAP estimate is \", map_estimate)"
   ]
  },
  {
   "cell_type": "code",
   "execution_count": null,
   "metadata": {},
   "outputs": [],
   "source": []
  },
  {
   "cell_type": "code",
   "execution_count": null,
   "metadata": {},
   "outputs": [],
   "source": []
  },
  {
   "cell_type": "code",
   "execution_count": null,
   "metadata": {},
   "outputs": [],
   "source": []
  },
  {
   "cell_type": "markdown",
   "metadata": {},
   "source": [
    "# Explain log-pdf and HMC"
   ]
  },
  {
   "cell_type": "code",
   "execution_count": 13,
   "metadata": {},
   "outputs": [],
   "source": [
    "stdev = 0.1\n",
    "p_lower_bound = 1.05\n",
    "p_upper_bound = 1.5\n",
    "p_prior_stdev = 0.2\n",
    "a_prior_stdev = 0.2\n",
    "a_lower_bound = 0.8\n",
    "a_upper_bound = 1.2\n",
    "n_samples = 1200\n",
    "n_burn_in = 400\n",
    "n_chain = 1"
   ]
  },
  {
   "cell_type": "code",
   "execution_count": 14,
   "metadata": {},
   "outputs": [
    {
     "name": "stdout",
     "output_type": "stream",
     "text": [
      "H_aa =  -528.6991955344433\n",
      "H_pp =  -2953.5321272033957\n",
      "H_pa =  -1210.7752127288318\n",
      "[[ 528.69919553 1210.77521273]\n",
      " [1210.77521273 2953.5321272 ]]\n",
      "(DeviceArray([  27.66000032, 3454.57132242], dtype=float64), DeviceArray([[-0.92400908,  0.38237053],\n",
      "             [ 0.38237053,  0.92400908]], dtype=float64))\n"
     ]
    }
   ],
   "source": [
    "#err is actually squared error\n",
    "@overload_jax\n",
    "def logpdf(err):\n",
    "    return - err  / (2 * stdev ** 2)\n",
    "\n",
    "def reset_params(rf, params):\n",
    "    for i in range(len(params)):\n",
    "        rf.controls[i].update(params[i])\n",
    "\n",
    "logpdf_op = TheanoLogPdf(ReducedFunctional(logpdf(err), Control(theta)), (theta,))\n",
    "err_op = TheanoLogPdf(ReducedFunctional(err, Control(theta)), (theta,))\n",
    "J = logpdf_op.rf(theta)\n",
    "thetamha = theta - jnp.array([4.0e-6, 0])\n",
    "thetamhp = theta - jnp.array([0, 4.0e-6])\n",
    "thetapha = theta + jnp.array([4.0e-6, 0])\n",
    "thetaphp = theta + jnp.array([0, 4.0e-6])\n",
    "thetaphap = theta + jnp.array([4.0e-6, 4.0e-6])\n",
    "thetamhap = theta - jnp.array([4.0e-6, 4.0e-6])\n",
    "reset_params(logpdf_op.rf, [thetamha])\n",
    "Jmha = logpdf_op.rf(thetamha)\n",
    "reset_params(logpdf_op.rf, [thetapha])\n",
    "Jpha = logpdf_op.rf(thetapha)\n",
    "H_aa = (Jpha - 2 * J + Jmha) / (4.0e-6) ** 2\n",
    "print(\"H_aa = \", H_aa)\n",
    "reset_params(logpdf_op.rf, [thetamhp])\n",
    "Jmhp = logpdf_op.rf(thetamhp)\n",
    "reset_params(logpdf_op.rf, [thetaphp])\n",
    "Jphp = logpdf_op.rf(thetaphp)\n",
    "H_pp = (Jphp - 2 * J + Jmhp) / 4.0e-6 ** 2\n",
    "print(\"H_pp = \", H_pp)\n",
    "\n",
    "#Jphap = logpdf_op.rf(thetaphap)\n",
    "H_pa = (logpdf_op.rf(theta + jnp.array([4.0e-6, 4.0e-6])) \n",
    "        - logpdf_op.rf(theta + jnp.array([4.0e-6, -4.0e-6])) \n",
    "        - logpdf_op.rf(theta + jnp.array([-4.0e-6, 4.0e-6]))\n",
    "        + logpdf_op.rf(theta + jnp.array([-4.0e-6, -4.0e-6]))\n",
    "        ) / (4 * 4.0e-6 ** 2)\n",
    "print(\"H_pa = \", H_pa)\n",
    "H = jnp.zeros((2,2))\n",
    "H = jax.ops.index_update(H, jax.ops.index[0,0], -H_aa)\n",
    "H = jax.ops.index_update(H, jax.ops.index[0,1], -H_pa)\n",
    "H = jax.ops.index_update(H, jax.ops.index[1,0], -H_pa)\n",
    "H = jax.ops.index_update(H, jax.ops.index[1,1], -H_pp)\n",
    "print(H)\n",
    "#fisher_info = jnp.tensordot(J.value, J.value,axes=0)\n",
    "print(jnp.linalg.eigh(H))\n",
    "#tt.verify_grad(logpdf_op, [np.array(map_estimate)], rng=np.random, rel_tol=0.01, abs_tol=0.01)"
   ]
  },
  {
   "cell_type": "code",
   "execution_count": null,
   "metadata": {},
   "outputs": [],
   "source": [
    "def convert(x):\n",
    "    if isinstance(x, ndarray):\n",
    "        return x.unwrap(True)\n",
    "    return x \n",
    "    \n",
    "def value_grad_and_hessian(rf, theta, h=0.001):\n",
    "    J = rf(theta)\n",
    "    gradJ = rf.derivative()\n",
    "    thetamha = theta - jnp.array([h, 0])\n",
    "    thetamhp = theta - jnp.array([0, h])\n",
    "    thetapha = theta + jnp.array([h, 0])\n",
    "    thetaphp = theta + jnp.array([0, h])\n",
    "    thetaphap = theta + jnp.array([h, h])\n",
    "    thetamhap = theta - jnp.array([h, h])\n",
    "    Jmha = rf(thetamha)\n",
    "    Jpha = rf(thetapha)\n",
    "    Jmhp = rf(thetamhp)\n",
    "    Jphp = rf(thetaphp)\n",
    "    H_aa = (Jpha - 2 * J + Jmha) / h ** 2\n",
    "    H_pp = (Jphp - 2 * J + Jmhp) / h ** 2\n",
    "    H_pa = (rf(thetaphap)\n",
    "            - rf(theta + jnp.array([h, -h]))\n",
    "            - rf(theta + jnp.array([-h, h]))\n",
    "            + rf(thetamhap)\n",
    "            ) / (4 * h ** 2)\n",
    "    H = jnp.zeros((2,2))\n",
    "    H = jax.ops.index_update(H, jax.ops.index[0,0], H_aa)\n",
    "    H = jax.ops.index_update(H, jax.ops.index[0,1], H_pa)\n",
    "    H = jax.ops.index_update(H, jax.ops.index[1,0], H_pa)\n",
    "    H = jax.ops.index_update(H, jax.ops.index[1,1], H_pp)\n",
    "    return J, convert(gradJ), H\n",
    "\n",
    "\n",
    "def find_saddle_point(rf, theta0, atol=1.0e-16, max_iter=50):\n",
    "    theta = theta0\n",
    "    \n",
    "    for _ in range(max_iter):\n",
    "        f, gradf, hess_f = value_grad_and_hessian(rf, theta)\n",
    "        evals, evecs = jnp.linalg.eigh(hess_f)\n",
    "        print(\"Theta\", theta, \"Function value:\", f, \"Gradient: \", gradf, \"Hessian eigenvalues:\", evals, \"Hessian eigenvectors:\", evecs)\n",
    "        if jnp.linalg.norm(gradf) < atol:\n",
    "            return theta\n",
    "        p = jnp.linalg.solve(hess_f, gradf)\n",
    "        p = p / jnp.linalg.norm(p)\n",
    "        theta = theta - 0.01 * p\n",
    "        \n",
    "\n",
    "    return theta\n",
    "\n",
    "with stop_annotating():\n",
    "    find_saddle_point(Jhat, array([0.97, 1.25]))"
   ]
  },
  {
   "cell_type": "code",
   "execution_count": 17,
   "metadata": {},
   "outputs": [
    {
     "name": "stdout",
     "output_type": "stream",
     "text": [
      "/usr/bin/fish: /home/diffeoinvariant/anaconda3/envs/fenics2019/lib/libtinfo.so.6: no version information available (required by /usr/bin/fish)\n",
      "Found existing installation: pymc3 3.11.1\n",
      "Uninstalling pymc3-3.11.1:\n",
      "  Successfully uninstalled pymc3-3.11.1\n",
      "/usr/bin/fish: /home/diffeoinvariant/anaconda3/envs/fenics2019/lib/libtinfo.so.6: no version information available (required by /usr/bin/fish)\n",
      "Collecting git+https://github.com/OriolAbril/pymc3.git\n",
      "  Cloning https://github.com/OriolAbril/pymc3.git to /tmp/pip-req-build-u7e8oe1m\n",
      "  Installing build dependencies ... \u001b[?25ldone\n",
      "\u001b[?25h  Getting requirements to build wheel ... \u001b[?25ldone\n",
      "\u001b[?25h    Preparing wheel metadata ... \u001b[?25ldone\n",
      "\u001b[?25hRequirement already satisfied: arviz>=0.11.1 in /home/diffeoinvariant/anaconda3/lib/python3.8/site-packages (from pymc3==3.11.1) (0.11.2)\n",
      "Requirement already satisfied: dill in /home/diffeoinvariant/.local/lib/python3.8/site-packages (from pymc3==3.11.1) (0.3.3)\n",
      "Requirement already satisfied: fastprogress>=0.2.0 in /home/diffeoinvariant/.local/lib/python3.8/site-packages (from pymc3==3.11.1) (1.0.0)\n",
      "Requirement already satisfied: patsy>=0.5.1 in /home/diffeoinvariant/.local/lib/python3.8/site-packages (from pymc3==3.11.1) (0.5.1)\n",
      "Requirement already satisfied: typing-extensions>=3.7.4 in /home/diffeoinvariant/.local/lib/python3.8/site-packages (from pymc3==3.11.1) (3.7.4.3)\n",
      "Requirement already satisfied: pandas>=0.24.0 in /home/diffeoinvariant/.local/lib/python3.8/site-packages (from pymc3==3.11.1) (1.2.1)\n",
      "Requirement already satisfied: scipy>=1.2.0 in /home/diffeoinvariant/.local/lib/python3.8/site-packages (from pymc3==3.11.1) (1.4.1)\n",
      "Requirement already satisfied: aesara>=2.0.1 in /home/diffeoinvariant/anaconda3/lib/python3.8/site-packages (from pymc3==3.11.1) (2.0.2)\n",
      "Requirement already satisfied: numpy>=1.15.0 in /home/diffeoinvariant/.local/lib/python3.8/site-packages (from pymc3==3.11.1) (1.18.5)\n",
      "Requirement already satisfied: xarray>=0.16.1 in /home/diffeoinvariant/.local/lib/python3.8/site-packages (from arviz>=0.11.1->pymc3==3.11.1) (0.16.2)\n",
      "Requirement already satisfied: matplotlib>=3.0 in /home/diffeoinvariant/anaconda3/lib/python3.8/site-packages (from arviz>=0.11.1->pymc3==3.11.1) (3.3.2)\n",
      "Requirement already satisfied: netcdf4 in /home/diffeoinvariant/.local/lib/python3.8/site-packages (from arviz>=0.11.1->pymc3==3.11.1) (1.5.5.1)\n",
      "Requirement already satisfied: setuptools>=38.4 in /home/diffeoinvariant/anaconda3/lib/python3.8/site-packages (from arviz>=0.11.1->pymc3==3.11.1) (50.3.1.post20201107)\n",
      "Requirement already satisfied: packaging in /home/diffeoinvariant/.local/lib/python3.8/site-packages (from arviz>=0.11.1->pymc3==3.11.1) (20.4)\n",
      "Requirement already satisfied: six in /home/diffeoinvariant/.local/lib/python3.8/site-packages (from patsy>=0.5.1->pymc3==3.11.1) (1.15.0)\n",
      "Requirement already satisfied: pytz>=2017.3 in /home/diffeoinvariant/anaconda3/lib/python3.8/site-packages (from pandas>=0.24.0->pymc3==3.11.1) (2020.1)\n",
      "Requirement already satisfied: python-dateutil>=2.7.3 in /home/diffeoinvariant/anaconda3/lib/python3.8/site-packages (from pandas>=0.24.0->pymc3==3.11.1) (2.8.1)\n",
      "Requirement already satisfied: filelock in /home/diffeoinvariant/anaconda3/lib/python3.8/site-packages (from aesara>=2.0.1->pymc3==3.11.1) (3.0.12)\n",
      "Requirement already satisfied: pillow>=6.2.0 in /home/diffeoinvariant/anaconda3/lib/python3.8/site-packages (from matplotlib>=3.0->arviz>=0.11.1->pymc3==3.11.1) (8.0.1)\n",
      "Requirement already satisfied: pyparsing!=2.0.4,!=2.1.2,!=2.1.6,>=2.0.3 in /home/diffeoinvariant/anaconda3/lib/python3.8/site-packages (from matplotlib>=3.0->arviz>=0.11.1->pymc3==3.11.1) (2.4.7)\n",
      "Requirement already satisfied: certifi>=2020.06.20 in /home/diffeoinvariant/anaconda3/lib/python3.8/site-packages (from matplotlib>=3.0->arviz>=0.11.1->pymc3==3.11.1) (2020.6.20)\n",
      "Requirement already satisfied: kiwisolver>=1.0.1 in /home/diffeoinvariant/anaconda3/lib/python3.8/site-packages (from matplotlib>=3.0->arviz>=0.11.1->pymc3==3.11.1) (1.3.0)\n",
      "Requirement already satisfied: cycler>=0.10 in /home/diffeoinvariant/anaconda3/lib/python3.8/site-packages (from matplotlib>=3.0->arviz>=0.11.1->pymc3==3.11.1) (0.10.0)\n",
      "Requirement already satisfied: cftime in /home/diffeoinvariant/.local/lib/python3.8/site-packages (from netcdf4->arviz>=0.11.1->pymc3==3.11.1) (1.3.1)\n",
      "Building wheels for collected packages: pymc3\n",
      "  Building wheel for pymc3 (PEP 517) ... \u001b[?25ldone\n",
      "\u001b[?25h  Created wheel for pymc3: filename=pymc3-3.11.1-py3-none-any.whl size=869270 sha256=71ef38064142655efa6e3e59b85ad73d7f2ca519e9e2730fd6536e00987d5f84\n",
      "  Stored in directory: /tmp/pip-ephem-wheel-cache-ft45i9w_/wheels/f8/62/da/9c4d3ea37a00328c41ff837ab769cc70c0b50b50f9a9c2042f\n",
      "Successfully built pymc3\n",
      "Installing collected packages: pymc3\n",
      "Successfully installed pymc3-3.11.1\n"
     ]
    }
   ],
   "source": [
    "!pip uninstall -y pymc3\n",
    "!pip install git+https://github.com/OriolAbril/pymc3.git"
   ]
  },
  {
   "cell_type": "code",
   "execution_count": 15,
   "metadata": {},
   "outputs": [
    {
     "name": "stdout",
     "output_type": "stream",
     "text": [
      "Hessian :  [[ 528.69919553 1210.77521273]\n",
      " [1210.77521273 2953.5321272 ]]\n",
      "Hinv :  [[ 0.03090974 -0.01267118]\n",
      " [-0.01267118  0.00553302]]\n"
     ]
    },
    {
     "ename": "TypeError",
     "evalue": "__init__() got an unexpected keyword argument 'givens'",
     "output_type": "error",
     "traceback": [
      "\u001b[0;31m---------------------------------------------------------------------------\u001b[0m",
      "\u001b[0;31mTypeError\u001b[0m                                 Traceback (most recent call last)",
      "\u001b[0;32m<ipython-input-15-afacb2bc19a7>\u001b[0m in \u001b[0;36m<module>\u001b[0;34m\u001b[0m\n\u001b[1;32m     10\u001b[0m     \u001b[0mrv_theta\u001b[0m \u001b[0;34m=\u001b[0m \u001b[0mtt\u001b[0m\u001b[0;34m.\u001b[0m\u001b[0mas_tensor_variable\u001b[0m\u001b[0;34m(\u001b[0m\u001b[0;34m[\u001b[0m\u001b[0mrv_a\u001b[0m\u001b[0;34m,\u001b[0m \u001b[0mrv_p\u001b[0m\u001b[0;34m]\u001b[0m\u001b[0;34m)\u001b[0m\u001b[0;34m\u001b[0m\u001b[0;34m\u001b[0m\u001b[0m\n\u001b[1;32m     11\u001b[0m     \u001b[0;31m#OriolArbil's fork (https://github.com/OriolAbril/pymc3/tree/density_dist) lets us use givens instead of observed\u001b[0m\u001b[0;34m\u001b[0m\u001b[0;34m\u001b[0m\u001b[0;34m\u001b[0m\u001b[0m\n\u001b[0;32m---> 12\u001b[0;31m     \u001b[0mpm\u001b[0m\u001b[0;34m.\u001b[0m\u001b[0mDensityDist\u001b[0m\u001b[0;34m(\u001b[0m\u001b[0;34m\"log-likelihood\"\u001b[0m\u001b[0;34m,\u001b[0m \u001b[0;32mlambda\u001b[0m \u001b[0mx\u001b[0m\u001b[0;34m:\u001b[0m \u001b[0mlogpdf_op\u001b[0m\u001b[0;34m(\u001b[0m\u001b[0mx\u001b[0m\u001b[0;34m)\u001b[0m\u001b[0;34m,\u001b[0m \u001b[0mgivens\u001b[0m\u001b[0;34m=\u001b[0m\u001b[0;34m{\u001b[0m\u001b[0;34m'x'\u001b[0m \u001b[0;34m:\u001b[0m \u001b[0mrv_theta\u001b[0m\u001b[0;34m}\u001b[0m\u001b[0;34m)\u001b[0m\u001b[0;34m\u001b[0m\u001b[0;34m\u001b[0m\u001b[0m\n\u001b[0m\u001b[1;32m     13\u001b[0m     \u001b[0;31m#err_mu\u001b[0m\u001b[0;34m\u001b[0m\u001b[0;34m\u001b[0m\u001b[0;34m\u001b[0m\u001b[0m\n\u001b[1;32m     14\u001b[0m     \u001b[0mtrace\u001b[0m \u001b[0;34m=\u001b[0m \u001b[0mpm\u001b[0m\u001b[0;34m.\u001b[0m\u001b[0msample\u001b[0m\u001b[0;34m(\u001b[0m\u001b[0mn_samples\u001b[0m\u001b[0;34m,\u001b[0m \u001b[0mstep\u001b[0m\u001b[0;34m=\u001b[0m\u001b[0mpm\u001b[0m\u001b[0;34m.\u001b[0m\u001b[0mNUTS\u001b[0m\u001b[0;34m(\u001b[0m\u001b[0mrv_theta\u001b[0m\u001b[0;34m,\u001b[0m \u001b[0mscaling\u001b[0m\u001b[0;34m=\u001b[0m\u001b[0mjnp\u001b[0m\u001b[0;34m.\u001b[0m\u001b[0mlinalg\u001b[0m\u001b[0;34m.\u001b[0m\u001b[0minv\u001b[0m\u001b[0;34m(\u001b[0m\u001b[0mH\u001b[0m\u001b[0;34m)\u001b[0m\u001b[0;34m,\u001b[0m \u001b[0mis_cov\u001b[0m\u001b[0;34m=\u001b[0m\u001b[0;32mTrue\u001b[0m\u001b[0;34m)\u001b[0m\u001b[0;34m,\u001b[0m \u001b[0mtune\u001b[0m\u001b[0;34m=\u001b[0m\u001b[0mn_burn_in\u001b[0m\u001b[0;34m,\u001b[0m \u001b[0mcores\u001b[0m\u001b[0;34m=\u001b[0m\u001b[0;36m1\u001b[0m\u001b[0;34m,\u001b[0m \u001b[0mchains\u001b[0m\u001b[0;34m=\u001b[0m\u001b[0mn_chain\u001b[0m\u001b[0;34m,\u001b[0m \u001b[0mcompute_convergence_checks\u001b[0m\u001b[0;34m=\u001b[0m\u001b[0;32mFalse\u001b[0m\u001b[0;34m,\u001b[0m \u001b[0mreturn_inferencedata\u001b[0m\u001b[0;34m=\u001b[0m\u001b[0;32mFalse\u001b[0m\u001b[0;34m)\u001b[0m\u001b[0;34m\u001b[0m\u001b[0;34m\u001b[0m\u001b[0m\n",
      "\u001b[0;32m~/anaconda3/envs/fenics2019/lib/python3.7/site-packages/pymc3/distributions/distribution.py\u001b[0m in \u001b[0;36m__new__\u001b[0;34m(cls, name, *args, **kwargs)\u001b[0m\n\u001b[1;32m    119\u001b[0m             \u001b[0mdist\u001b[0m \u001b[0;34m=\u001b[0m \u001b[0mcls\u001b[0m\u001b[0;34m.\u001b[0m\u001b[0mdist\u001b[0m\u001b[0;34m(\u001b[0m\u001b[0;34m*\u001b[0m\u001b[0margs\u001b[0m\u001b[0;34m,\u001b[0m \u001b[0;34m**\u001b[0m\u001b[0mkwargs\u001b[0m\u001b[0;34m,\u001b[0m \u001b[0mshape\u001b[0m\u001b[0;34m=\u001b[0m\u001b[0mshape\u001b[0m\u001b[0;34m)\u001b[0m\u001b[0;34m\u001b[0m\u001b[0;34m\u001b[0m\u001b[0m\n\u001b[1;32m    120\u001b[0m         \u001b[0;32melse\u001b[0m\u001b[0;34m:\u001b[0m\u001b[0;34m\u001b[0m\u001b[0;34m\u001b[0m\u001b[0m\n\u001b[0;32m--> 121\u001b[0;31m             \u001b[0mdist\u001b[0m \u001b[0;34m=\u001b[0m \u001b[0mcls\u001b[0m\u001b[0;34m.\u001b[0m\u001b[0mdist\u001b[0m\u001b[0;34m(\u001b[0m\u001b[0;34m*\u001b[0m\u001b[0margs\u001b[0m\u001b[0;34m,\u001b[0m \u001b[0;34m**\u001b[0m\u001b[0mkwargs\u001b[0m\u001b[0;34m)\u001b[0m\u001b[0;34m\u001b[0m\u001b[0;34m\u001b[0m\u001b[0m\n\u001b[0m\u001b[1;32m    122\u001b[0m         \u001b[0;32mreturn\u001b[0m \u001b[0mmodel\u001b[0m\u001b[0;34m.\u001b[0m\u001b[0mVar\u001b[0m\u001b[0;34m(\u001b[0m\u001b[0mname\u001b[0m\u001b[0;34m,\u001b[0m \u001b[0mdist\u001b[0m\u001b[0;34m,\u001b[0m \u001b[0mdata\u001b[0m\u001b[0;34m,\u001b[0m \u001b[0mtotal_size\u001b[0m\u001b[0;34m,\u001b[0m \u001b[0mdims\u001b[0m\u001b[0;34m=\u001b[0m\u001b[0mdims\u001b[0m\u001b[0;34m)\u001b[0m\u001b[0;34m\u001b[0m\u001b[0;34m\u001b[0m\u001b[0m\n\u001b[1;32m    123\u001b[0m \u001b[0;34m\u001b[0m\u001b[0m\n",
      "\u001b[0;32m~/anaconda3/envs/fenics2019/lib/python3.7/site-packages/pymc3/distributions/distribution.py\u001b[0m in \u001b[0;36mdist\u001b[0;34m(cls, *args, **kwargs)\u001b[0m\n\u001b[1;32m    128\u001b[0m     \u001b[0;32mdef\u001b[0m \u001b[0mdist\u001b[0m\u001b[0;34m(\u001b[0m\u001b[0mcls\u001b[0m\u001b[0;34m,\u001b[0m \u001b[0;34m*\u001b[0m\u001b[0margs\u001b[0m\u001b[0;34m,\u001b[0m \u001b[0;34m**\u001b[0m\u001b[0mkwargs\u001b[0m\u001b[0;34m)\u001b[0m\u001b[0;34m:\u001b[0m\u001b[0;34m\u001b[0m\u001b[0;34m\u001b[0m\u001b[0m\n\u001b[1;32m    129\u001b[0m         \u001b[0mdist\u001b[0m \u001b[0;34m=\u001b[0m \u001b[0mobject\u001b[0m\u001b[0;34m.\u001b[0m\u001b[0m__new__\u001b[0m\u001b[0;34m(\u001b[0m\u001b[0mcls\u001b[0m\u001b[0;34m)\u001b[0m\u001b[0;34m\u001b[0m\u001b[0;34m\u001b[0m\u001b[0m\n\u001b[0;32m--> 130\u001b[0;31m         \u001b[0mdist\u001b[0m\u001b[0;34m.\u001b[0m\u001b[0m__init__\u001b[0m\u001b[0;34m(\u001b[0m\u001b[0;34m*\u001b[0m\u001b[0margs\u001b[0m\u001b[0;34m,\u001b[0m \u001b[0;34m**\u001b[0m\u001b[0mkwargs\u001b[0m\u001b[0;34m)\u001b[0m\u001b[0;34m\u001b[0m\u001b[0;34m\u001b[0m\u001b[0m\n\u001b[0m\u001b[1;32m    131\u001b[0m         \u001b[0;32mreturn\u001b[0m \u001b[0mdist\u001b[0m\u001b[0;34m\u001b[0m\u001b[0;34m\u001b[0m\u001b[0m\n\u001b[1;32m    132\u001b[0m \u001b[0;34m\u001b[0m\u001b[0m\n",
      "\u001b[0;32m~/anaconda3/envs/fenics2019/lib/python3.7/site-packages/pymc3/distributions/distribution.py\u001b[0m in \u001b[0;36m__init__\u001b[0;34m(self, logp, shape, dtype, testval, random, wrap_random_with_dist_shape, check_shape_in_random, *args, **kwargs)\u001b[0m\n\u001b[1;32m    528\u001b[0m         \u001b[0;32mif\u001b[0m \u001b[0mdtype\u001b[0m \u001b[0;32mis\u001b[0m \u001b[0;32mNone\u001b[0m\u001b[0;34m:\u001b[0m\u001b[0;34m\u001b[0m\u001b[0;34m\u001b[0m\u001b[0m\n\u001b[1;32m    529\u001b[0m             \u001b[0mdtype\u001b[0m \u001b[0;34m=\u001b[0m \u001b[0mtheano\u001b[0m\u001b[0;34m.\u001b[0m\u001b[0mconfig\u001b[0m\u001b[0;34m.\u001b[0m\u001b[0mfloatX\u001b[0m\u001b[0;34m\u001b[0m\u001b[0;34m\u001b[0m\u001b[0m\n\u001b[0;32m--> 530\u001b[0;31m         \u001b[0msuper\u001b[0m\u001b[0;34m(\u001b[0m\u001b[0;34m)\u001b[0m\u001b[0;34m.\u001b[0m\u001b[0m__init__\u001b[0m\u001b[0;34m(\u001b[0m\u001b[0mshape\u001b[0m\u001b[0;34m,\u001b[0m \u001b[0mdtype\u001b[0m\u001b[0;34m,\u001b[0m \u001b[0mtestval\u001b[0m\u001b[0;34m,\u001b[0m \u001b[0;34m*\u001b[0m\u001b[0margs\u001b[0m\u001b[0;34m,\u001b[0m \u001b[0;34m**\u001b[0m\u001b[0mkwargs\u001b[0m\u001b[0;34m)\u001b[0m\u001b[0;34m\u001b[0m\u001b[0;34m\u001b[0m\u001b[0m\n\u001b[0m\u001b[1;32m    531\u001b[0m         \u001b[0mself\u001b[0m\u001b[0;34m.\u001b[0m\u001b[0mlogp\u001b[0m \u001b[0;34m=\u001b[0m \u001b[0mlogp\u001b[0m\u001b[0;34m\u001b[0m\u001b[0;34m\u001b[0m\u001b[0m\n\u001b[1;32m    532\u001b[0m         \u001b[0;32mif\u001b[0m \u001b[0mtype\u001b[0m\u001b[0;34m(\u001b[0m\u001b[0mself\u001b[0m\u001b[0;34m.\u001b[0m\u001b[0mlogp\u001b[0m\u001b[0;34m)\u001b[0m \u001b[0;34m==\u001b[0m \u001b[0mtypes\u001b[0m\u001b[0;34m.\u001b[0m\u001b[0mMethodType\u001b[0m\u001b[0;34m:\u001b[0m\u001b[0;34m\u001b[0m\u001b[0;34m\u001b[0m\u001b[0m\n",
      "\u001b[0;31mTypeError\u001b[0m: __init__() got an unexpected keyword argument 'givens'"
     ]
    }
   ],
   "source": [
    "#H = -H\n",
    "logpdf_op.n = 0\n",
    "print(\"Hessian : \", H)\n",
    "print(\"Hinv : \", jnp.linalg.inv(H))\n",
    "#db = pm.backends.Text(f\"db_trace{n_samples}_burn{n_burn_in}_chains{n_chain}_seed{seed}_outflow\")\n",
    "with pm.Model() as energy_sampler:\n",
    "    rv_p = pm.Bound(pm.Normal, lower=p_lower_bound, upper=p_upper_bound)(\"p\",mu=map_estimate[1] , sigma=p_prior_stdev)\n",
    "    rv_a = pm.Bound(pm.Normal, lower=a_lower_bound, upper=a_upper_bound)(\"a\", mu=map_estimate[0], sigma=a_prior_stdev)\n",
    "    \n",
    "    rv_theta = tt.as_tensor_variable([rv_a, rv_p])\n",
    "    #OriolArbil's fork (https://github.com/OriolAbril/pymc3/tree/density_dist) lets us use givens instead of observed\n",
    "    pm.DensityDist(\"log-likelihood\", lambda x: logpdf_op(x), givens={'x' : rv_theta})\n",
    "    #err_mu\n",
    "    trace = pm.sample(n_samples, step=pm.NUTS(rv_theta, scaling=jnp.linalg.inv(H), is_cov=True), tune=n_burn_in, cores=1, chains=n_chain, compute_convergence_checks=False, return_inferencedata=False)\n",
    "    pm.save_trace(trace, f\"trace{n_samples}_burn{n_burn_in}_chains{n_chain}_seed{seed}_outflow_wider_a\", overwrite=True)"
   ]
  },
  {
   "cell_type": "code",
   "execution_count": null,
   "metadata": {},
   "outputs": [],
   "source": [
    " with energy_sampler:\n",
    "    pm.save_trace(trace, f\"trace{n_samples}_burn{n_burn_in}_chains{n_chain}_seed{seed}_backup\", overwrite=True)"
   ]
  },
  {
   "cell_type": "code",
   "execution_count": null,
   "metadata": {},
   "outputs": [],
   "source": [
    "with energy_sampler:\n",
    "    #pm.sampling.iter_sample"
   ]
  },
  {
   "cell_type": "code",
   "execution_count": null,
   "metadata": {},
   "outputs": [],
   "source": [
    "df = pm.backends.tracetab.trace_to_dataframe(trace)"
   ]
  },
  {
   "cell_type": "code",
   "execution_count": null,
   "metadata": {},
   "outputs": [],
   "source": [
    "sum(trace.get_sampler_stats('process_time_diff')) / 3600"
   ]
  },
  {
   "cell_type": "code",
   "execution_count": null,
   "metadata": {},
   "outputs": [],
   "source": [
    "trace.get_sampler_stats('tree_size')"
   ]
  },
  {
   "cell_type": "code",
   "execution_count": null,
   "metadata": {},
   "outputs": [],
   "source": [
    "import seaborn as sns\n",
    "import matplotlib.pyplot as plt"
   ]
  },
  {
   "cell_type": "code",
   "execution_count": null,
   "metadata": {},
   "outputs": [],
   "source": [
    "pt = trace.get_values('p')\n",
    "at = trace.get_values('a')"
   ]
  },
  {
   "cell_type": "code",
   "execution_count": null,
   "metadata": {},
   "outputs": [],
   "source": [
    "fig_p = sns.kdeplot(trace['p'])\n",
    "fig_p.set_title('Posterior Marginal Distribution of p')\n",
    "plt.savefig('marginal_posterior_p.png')"
   ]
  },
  {
   "cell_type": "code",
   "execution_count": null,
   "metadata": {},
   "outputs": [],
   "source": [
    "plt.figure()\n",
    "fig_a = sns.kdeplot(trace['a'])\n",
    "fig_a.set_title('Posterior Marginal Distribution of a')\n",
    "plt.savefig('marginal_posterior_a.png')"
   ]
  },
  {
   "cell_type": "code",
   "execution_count": null,
   "metadata": {},
   "outputs": [],
   "source": [
    "joint_fig = sns.jointplot(data=df, x='p', y='a', color='c')#trace['p'], trace['a'], kind='kde', color='r')\n",
    "joint_fig.plot_joint(sns.kdeplot, color='r')\n",
    "joint_fig.savefig('joint_posterior_cyan.png')"
   ]
  },
  {
   "cell_type": "code",
   "execution_count": null,
   "metadata": {},
   "outputs": [],
   "source": [
    "az.ess(trace)"
   ]
  },
  {
   "cell_type": "code",
   "execution_count": null,
   "metadata": {},
   "outputs": [],
   "source": [
    "pm.ess(trace)"
   ]
  },
  {
   "cell_type": "code",
   "execution_count": null,
   "metadata": {},
   "outputs": [],
   "source": [
    "import arviz as az"
   ]
  },
  {
   "cell_type": "code",
   "execution_count": null,
   "metadata": {},
   "outputs": [],
   "source": [
    "with energy_sampler:\n",
    "       trace2 = az.from_pymc3(trace)#az.load_arviz_data(f\"trace{n_samples}_burn{n_burn_in}_chains{n_chain}_seed{seed}_outflow\")"
   ]
  },
  {
   "cell_type": "code",
   "execution_count": null,
   "metadata": {},
   "outputs": [],
   "source": [
    "!ls trace*outflow/0"
   ]
  },
  {
   "cell_type": "code",
   "execution_count": null,
   "metadata": {},
   "outputs": [],
   "source": []
  }
 ],
 "metadata": {
  "kernelspec": {
   "display_name": "fenics2019",
   "language": "python",
   "name": "fenics2019"
  },
  "language_info": {
   "codemirror_mode": {
    "name": "ipython",
    "version": 3
   },
   "file_extension": ".py",
   "mimetype": "text/x-python",
   "name": "python",
   "nbconvert_exporter": "python",
   "pygments_lexer": "ipython3",
   "version": "3.7.9"
  }
 },
 "nbformat": 4,
 "nbformat_minor": 4
}
